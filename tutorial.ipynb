{
 "cells": [
  {
   "cell_type": "markdown",
   "id": "8cf7b616",
   "metadata": {},
   "source": [
    "create python virtual environment: \n",
    "`python3 -m venv .venv`\n",
    "\n",
    "install pipenv: \n",
    "`.venv/bin/pip install pipenv`\n",
    "\n",
    "install packages from pipfile: \n",
    "`.venv/bin/pipenv install`\n",
    "\n",
    "start the jupyter server: \n",
    "`.venv/bin/jupyter server`"
   ]
  },
  {
   "cell_type": "code",
   "execution_count": 5,
   "id": "30335906-3b42-4755-a9df-9e9618ae41fa",
   "metadata": {},
   "outputs": [],
   "source": [
    "import getpass\n",
    "import os\n",
    "\n",
    "LANGCHAIN_TRACING_V2=\"true\"\n",
    "LANGCHAIN_API_KEY=getpass.getpass()\n",
    "OPENAI_API_KEY=getpass.getpass()"
   ]
  },
  {
   "cell_type": "code",
   "execution_count": 14,
   "id": "74630d27",
   "metadata": {},
   "outputs": [],
   "source": [
    "from langchain_openai import ChatOpenAI\n",
    "model = ChatOpenAI(model=\"gpt-4o-mini\", openai_api_key=OPENAI_API_KEY)"
   ]
  },
  {
   "cell_type": "code",
   "execution_count": 16,
   "id": "9d6d6e5a",
   "metadata": {},
   "outputs": [
    {
     "data": {
      "text/plain": [
       "AIMessage(content='Ciao!', response_metadata={'token_usage': {'completion_tokens': 3, 'prompt_tokens': 20, 'total_tokens': 23}, 'model_name': 'gpt-4o-mini-2024-07-18', 'system_fingerprint': 'fp_661538dc1f', 'finish_reason': 'stop', 'logprobs': None}, id='run-23d43422-bfbb-496d-b1ea-b11b82ab04fa-0', usage_metadata={'input_tokens': 20, 'output_tokens': 3, 'total_tokens': 23})"
      ]
     },
     "execution_count": 16,
     "metadata": {},
     "output_type": "execute_result"
    }
   ],
   "source": [
    "from langchain_core.messages import HumanMessage, SystemMessage\n",
    "\n",
    "messages = [\n",
    "    SystemMessage(content=\"Translate the following from English into Italian\"),\n",
    "    HumanMessage(content=\"hi!\"),\n",
    "]\n",
    "\n",
    "model.invoke(messages)"
   ]
  }
 ],
 "metadata": {
  "kernelspec": {
   "display_name": "Python 3 (ipykernel)",
   "language": "python",
   "name": "python3"
  },
  "language_info": {
   "codemirror_mode": {
    "name": "ipython",
    "version": 3
   },
   "file_extension": ".py",
   "mimetype": "text/x-python",
   "name": "python",
   "nbconvert_exporter": "python",
   "pygments_lexer": "ipython3",
   "version": "3.11.2"
  }
 },
 "nbformat": 4,
 "nbformat_minor": 5
}
